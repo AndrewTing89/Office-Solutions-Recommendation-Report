{
  "cells": [
    {
      "cell_type": "markdown",
      "metadata": {
        "id": "view-in-github",
        "colab_type": "text"
      },
      "source": [
        "<a href=\"https://colab.research.google.com/github/AndrewTing89/Office-Solutions-Recommendation-Report/blob/main/Office_Solutions_Data_Display_for_Non_Technical_People.ipynb\" target=\"_parent\"><img src=\"https://colab.research.google.com/assets/colab-badge.svg\" alt=\"Open In Colab\"/></a>"
      ]
    },
    {
      "cell_type": "code",
      "execution_count": null,
      "metadata": {
        "id": "1s4JKY-OMzKs",
        "outputId": "ecbd67c8-093c-4ae0-e15b-2dee5ca061c2",
        "colab": {
          "base_uri": "https://localhost:8080/",
          "height": 345
        }
      },
      "outputs": [
        {
          "output_type": "error",
          "ename": "FileNotFoundError",
          "evalue": "ignored",
          "traceback": [
            "\u001b[0;31m---------------------------------------------------------------------------\u001b[0m",
            "\u001b[0;31mFileNotFoundError\u001b[0m                         Traceback (most recent call last)",
            "\u001b[0;32m<ipython-input-2-681dd2951c84>\u001b[0m in \u001b[0;36m<module>\u001b[0;34m\u001b[0m\n\u001b[1;32m      1\u001b[0m \u001b[0;32mimport\u001b[0m \u001b[0mpandas\u001b[0m \u001b[0;32mas\u001b[0m \u001b[0mpd\u001b[0m\u001b[0;34m\u001b[0m\u001b[0;34m\u001b[0m\u001b[0m\n\u001b[0;32m----> 2\u001b[0;31m \u001b[0mxl\u001b[0m\u001b[0;34m=\u001b[0m\u001b[0mpd\u001b[0m\u001b[0;34m.\u001b[0m\u001b[0mExcelFile\u001b[0m\u001b[0;34m(\u001b[0m\u001b[0;34m\"/content/TableauSalesData.xlsx\"\u001b[0m\u001b[0;34m)\u001b[0m\u001b[0;34m\u001b[0m\u001b[0;34m\u001b[0m\u001b[0m\n\u001b[0m\u001b[1;32m      3\u001b[0m \u001b[0msalesData\u001b[0m \u001b[0;34m=\u001b[0m \u001b[0mxl\u001b[0m\u001b[0;34m.\u001b[0m\u001b[0mparse\u001b[0m\u001b[0;34m(\u001b[0m\u001b[0;34m\"Orders\"\u001b[0m\u001b[0;34m)\u001b[0m\u001b[0;34m\u001b[0m\u001b[0;34m\u001b[0m\u001b[0m\n",
            "\u001b[0;32m/usr/local/lib/python3.7/dist-packages/pandas/io/excel/_base.py\u001b[0m in \u001b[0;36m__init__\u001b[0;34m(self, path_or_buffer, engine, storage_options)\u001b[0m\n\u001b[1;32m   1190\u001b[0m             \u001b[0;32melse\u001b[0m\u001b[0;34m:\u001b[0m\u001b[0;34m\u001b[0m\u001b[0;34m\u001b[0m\u001b[0m\n\u001b[1;32m   1191\u001b[0m                 ext = inspect_excel_format(\n\u001b[0;32m-> 1192\u001b[0;31m                     \u001b[0mcontent_or_path\u001b[0m\u001b[0;34m=\u001b[0m\u001b[0mpath_or_buffer\u001b[0m\u001b[0;34m,\u001b[0m \u001b[0mstorage_options\u001b[0m\u001b[0;34m=\u001b[0m\u001b[0mstorage_options\u001b[0m\u001b[0;34m\u001b[0m\u001b[0;34m\u001b[0m\u001b[0m\n\u001b[0m\u001b[1;32m   1193\u001b[0m                 )\n\u001b[1;32m   1194\u001b[0m                 \u001b[0;32mif\u001b[0m \u001b[0mext\u001b[0m \u001b[0;32mis\u001b[0m \u001b[0;32mNone\u001b[0m\u001b[0;34m:\u001b[0m\u001b[0;34m\u001b[0m\u001b[0;34m\u001b[0m\u001b[0m\n",
            "\u001b[0;32m/usr/local/lib/python3.7/dist-packages/pandas/io/excel/_base.py\u001b[0m in \u001b[0;36minspect_excel_format\u001b[0;34m(content_or_path, storage_options)\u001b[0m\n\u001b[1;32m   1069\u001b[0m \u001b[0;34m\u001b[0m\u001b[0m\n\u001b[1;32m   1070\u001b[0m     with get_handle(\n\u001b[0;32m-> 1071\u001b[0;31m         \u001b[0mcontent_or_path\u001b[0m\u001b[0;34m,\u001b[0m \u001b[0;34m\"rb\"\u001b[0m\u001b[0;34m,\u001b[0m \u001b[0mstorage_options\u001b[0m\u001b[0;34m=\u001b[0m\u001b[0mstorage_options\u001b[0m\u001b[0;34m,\u001b[0m \u001b[0mis_text\u001b[0m\u001b[0;34m=\u001b[0m\u001b[0;32mFalse\u001b[0m\u001b[0;34m\u001b[0m\u001b[0;34m\u001b[0m\u001b[0m\n\u001b[0m\u001b[1;32m   1072\u001b[0m     ) as handle:\n\u001b[1;32m   1073\u001b[0m         \u001b[0mstream\u001b[0m \u001b[0;34m=\u001b[0m \u001b[0mhandle\u001b[0m\u001b[0;34m.\u001b[0m\u001b[0mhandle\u001b[0m\u001b[0;34m\u001b[0m\u001b[0;34m\u001b[0m\u001b[0m\n",
            "\u001b[0;32m/usr/local/lib/python3.7/dist-packages/pandas/io/common.py\u001b[0m in \u001b[0;36mget_handle\u001b[0;34m(path_or_buf, mode, encoding, compression, memory_map, is_text, errors, storage_options)\u001b[0m\n\u001b[1;32m    709\u001b[0m         \u001b[0;32melse\u001b[0m\u001b[0;34m:\u001b[0m\u001b[0;34m\u001b[0m\u001b[0;34m\u001b[0m\u001b[0m\n\u001b[1;32m    710\u001b[0m             \u001b[0;31m# Binary mode\u001b[0m\u001b[0;34m\u001b[0m\u001b[0;34m\u001b[0m\u001b[0;34m\u001b[0m\u001b[0m\n\u001b[0;32m--> 711\u001b[0;31m             \u001b[0mhandle\u001b[0m \u001b[0;34m=\u001b[0m \u001b[0mopen\u001b[0m\u001b[0;34m(\u001b[0m\u001b[0mhandle\u001b[0m\u001b[0;34m,\u001b[0m \u001b[0mioargs\u001b[0m\u001b[0;34m.\u001b[0m\u001b[0mmode\u001b[0m\u001b[0;34m)\u001b[0m\u001b[0;34m\u001b[0m\u001b[0;34m\u001b[0m\u001b[0m\n\u001b[0m\u001b[1;32m    712\u001b[0m         \u001b[0mhandles\u001b[0m\u001b[0;34m.\u001b[0m\u001b[0mappend\u001b[0m\u001b[0;34m(\u001b[0m\u001b[0mhandle\u001b[0m\u001b[0;34m)\u001b[0m\u001b[0;34m\u001b[0m\u001b[0;34m\u001b[0m\u001b[0m\n\u001b[1;32m    713\u001b[0m \u001b[0;34m\u001b[0m\u001b[0m\n",
            "\u001b[0;31mFileNotFoundError\u001b[0m: [Errno 2] No such file or directory: '/content/TableauSalesData.xlsx'"
          ]
        }
      ],
      "source": [
        "#Import pandas library and dataset.\n",
        "import pandas as pd\n",
        "xl=pd.ExcelFile(\"/content/TableauSalesData.xlsx\")\n",
        "salesData = xl.parse(\"Orders\")"
      ]
    },
    {
      "cell_type": "code",
      "execution_count": null,
      "metadata": {
        "colab": {
          "base_uri": "https://localhost:8080/",
          "height": 530
        },
        "id": "5rSMKw7-SI3y",
        "outputId": "2491f4b7-0d34-4801-871f-7d7031f7c01b"
      },
      "outputs": [
        {
          "output_type": "stream",
          "name": "stdout",
          "text": [
            "\n",
            "Welcome! Please enter any number 1-7 to view the corresponding data\n",
            "\n",
            "[1] Enter 1 for sales & profit data on binders, grouped by segments\n",
            "[2] Enter 2 for sales & profit data on binders, grouped by regions\n",
            "[3] Enter 3 for sales & profit data on binders, grouped by segments in the central region\n",
            "[4] Enter 5 for sales & profit data on binders, grouped by states in the central region\n",
            "[5] Enter 5 for average discount data on binders, grouped by region\n",
            "[6] Enter 6 for average discount data on binders, grouped by states in the central region\n",
            "[7] Enter 7 for profit, sales, & discount data on binders in Texas and Illinois\n",
            "\n",
            "OR\n",
            "\n",
            "[q] Enter q to quit.\n",
            "\n",
            "Please enter a number 1-7, or the letter 'q' to quit!1\n",
            "Sales & Profit Data on Binders, Grouped by Segments:\n"
          ]
        },
        {
          "output_type": "error",
          "ename": "NameError",
          "evalue": "ignored",
          "traceback": [
            "\u001b[0;31m---------------------------------------------------------------------------\u001b[0m",
            "\u001b[0;31mNameError\u001b[0m                                 Traceback (most recent call last)",
            "\u001b[0;32m<ipython-input-1-70b6f98bc806>\u001b[0m in \u001b[0;36m<module>\u001b[0;34m\u001b[0m\n\u001b[1;32m     24\u001b[0m     \u001b[0;32mif\u001b[0m \u001b[0mchoice\u001b[0m \u001b[0;34m==\u001b[0m \u001b[0;34m\"1\"\u001b[0m\u001b[0;34m:\u001b[0m\u001b[0;34m\u001b[0m\u001b[0;34m\u001b[0m\u001b[0m\n\u001b[1;32m     25\u001b[0m       \u001b[0mprint\u001b[0m\u001b[0;34m(\u001b[0m\u001b[0;34m\"Sales & Profit Data on Binders, Grouped by Segments:\"\u001b[0m\u001b[0;34m)\u001b[0m\u001b[0;34m\u001b[0m\u001b[0;34m\u001b[0m\u001b[0m\n\u001b[0;32m---> 26\u001b[0;31m       \u001b[0mjustBinders\u001b[0m \u001b[0;34m=\u001b[0m \u001b[0msalesData\u001b[0m\u001b[0;34m.\u001b[0m\u001b[0mloc\u001b[0m\u001b[0;34m[\u001b[0m\u001b[0msalesData\u001b[0m\u001b[0;34m[\u001b[0m\u001b[0;34m\"Sub-Category\"\u001b[0m\u001b[0;34m]\u001b[0m\u001b[0;34m==\u001b[0m\u001b[0;34m\"Binders\"\u001b[0m\u001b[0;34m]\u001b[0m\u001b[0;34m\u001b[0m\u001b[0;34m\u001b[0m\u001b[0m\n\u001b[0m\u001b[1;32m     27\u001b[0m       \u001b[0mbindersSegment\u001b[0m \u001b[0;34m=\u001b[0m \u001b[0mjustBinders\u001b[0m\u001b[0;34m[\u001b[0m\u001b[0;34m[\u001b[0m\u001b[0;34m\"Segment\"\u001b[0m\u001b[0;34m,\u001b[0m\u001b[0;34m\"Profit\"\u001b[0m\u001b[0;34m,\u001b[0m\u001b[0;34m\"Sales\"\u001b[0m\u001b[0;34m]\u001b[0m\u001b[0;34m]\u001b[0m\u001b[0;34m\u001b[0m\u001b[0;34m\u001b[0m\u001b[0m\n\u001b[1;32m     28\u001b[0m       \u001b[0msegTotalProfSales\u001b[0m \u001b[0;34m=\u001b[0m \u001b[0mbindersSegment\u001b[0m\u001b[0;34m.\u001b[0m\u001b[0mgroupby\u001b[0m\u001b[0;34m(\u001b[0m\u001b[0mby\u001b[0m\u001b[0;34m=\u001b[0m\u001b[0;34m\"Segment\"\u001b[0m\u001b[0;34m)\u001b[0m\u001b[0;34m.\u001b[0m\u001b[0msum\u001b[0m\u001b[0;34m(\u001b[0m\u001b[0;34m)\u001b[0m\u001b[0;34m.\u001b[0m\u001b[0msort_values\u001b[0m\u001b[0;34m(\u001b[0m\u001b[0mby\u001b[0m\u001b[0;34m=\u001b[0m\u001b[0;34m\"Profit\"\u001b[0m\u001b[0;34m)\u001b[0m\u001b[0;34m\u001b[0m\u001b[0;34m\u001b[0m\u001b[0m\n",
            "\u001b[0;31mNameError\u001b[0m: name 'salesData' is not defined"
          ]
        }
      ],
      "source": [
        "# Give the user some context.\n",
        "print(\"\\nWelcome! Please enter any number 1-7 to view the corresponding data\")\n",
        "\n",
        "# Set an initial value for choice other than the value for 'quit'.\n",
        "choice = ''\n",
        "\n",
        "# Start a loop that runs until the user enters the value for 'quit'.\n",
        "while choice != 'q':\n",
        "    # Give all the choices in a series of print statements.\n",
        "    print(\"\\n[1] Enter 1 for sales & profit data on binders, grouped by segments\")\n",
        "    print(\"[2] Enter 2 for sales & profit data on binders, grouped by regions\")\n",
        "    print(\"[3] Enter 3 for sales & profit data on binders, grouped by segments in the central region\")\n",
        "    print(\"[4] Enter 5 for sales & profit data on binders, grouped by states in the central region\")\n",
        "    print(\"[5] Enter 5 for average discount data on binders, grouped by region\")\n",
        "    print(\"[6] Enter 6 for average discount data on binders, grouped by states in the central region\")\n",
        "    print(\"[7] Enter 7 for profit, sales, & discount data on binders in Texas and Illinois\")\n",
        "    print(\"\\nOR\")\n",
        "    print(\"\\n[q] Enter q to quit.\")\n",
        "    \n",
        "    # Ask for the user's choice.\n",
        "    choice = input(\"\\nPlease enter a number 1-7, or the letter 'q' to quit!\")\n",
        "    \n",
        "    # Respond to the user's choice.    \n",
        "    if choice == \"1\":\n",
        "      print(\"Sales & Profit Data on Binders, Grouped by Segments:\")\n",
        "      justBinders = salesData.loc[salesData[\"Sub-Category\"]==\"Binders\"]\n",
        "      bindersSegment = justBinders[[\"Segment\",\"Profit\",\"Sales\"]]\n",
        "      segTotalProfSales = bindersSegment.groupby(by=\"Segment\").sum().sort_values(by=\"Profit\")\n",
        "      display(segTotalProfSales)\n",
        "\n",
        "    elif choice == \"2\":\n",
        "      print(\"Sales & Profit Data on Binders, Grouped by Regions\")\n",
        "      justBinders = salesData.loc[salesData[\"Sub-Category\"]==\"Binders\"]\n",
        "      bindersRegion = justBinders[[\"Region\",\"Profit\",\"Sales\"]]\n",
        "      regionTotalProfSales = bindersRegion.groupby(by=\"Region\").sum().sort_values(by=\"Profit\")\n",
        "      display(regionTotalProfSales)\n",
        "\n",
        "    elif choice == \"3\":\n",
        "      print(\"Sales & Profit Data on Binders, Grouped by Segments in the Central Region\")\n",
        "      justBinders = salesData.loc[salesData[\"Sub-Category\"]==\"Binders\"]\n",
        "      bindersSegRegion = justBinders[[\"Segment\",\"Region\",\"Profit\",\"Sales\"]]\n",
        "      centralBindersSegment = bindersSegRegion.loc[bindersSegRegion[\"Region\"]==\"Central\"]\n",
        "      centralProfSales = centralBindersSegment.groupby(by=\"Segment\").sum().sort_values(by=\"Profit\")\n",
        "      display(centralProfSales)\n",
        "\n",
        "    elif choice == \"4\":\n",
        "      print(\"Sales & Profit Data on Binders, Grouped by States in the Central Region\")\n",
        "      justBinders = salesData.loc[salesData[\"Sub-Category\"]==\"Binders\"]\n",
        "      bindersStateProf = justBinders[[\"Segment\",\"Region\",\"State\",\"Profit\",\"Sales\"]]\n",
        "      bindersStateProfit = bindersStateProf.loc[bindersStateProf[\"Region\"]==\"Central\"]\n",
        "      bindersStateProfitSorted = bindersStateProfit.groupby(by=\"State\").sum().sort_values(by=\"Profit\")\n",
        "      display(bindersStateProfitSorted)\n",
        "\n",
        "    elif choice == \"5\":\n",
        "      print(\"Average Discount Data on Binders, Grouped by Region\")\n",
        "      justBinders = salesData.loc[salesData[\"Sub-Category\"]==\"Binders\"]\n",
        "      regJustBindersDiscount = justBinders[[\"Region\",\"Discount\"]].groupby(by=\"Region\").mean()\n",
        "      display(regJustBindersDiscount)\n",
        "    \n",
        "    elif choice == \"6\":\n",
        "      print(\"Average Discount Data on Binders, Grouped by States in the Central Region\")\n",
        "      justBinders = salesData.loc[salesData[\"Sub-Category\"]==\"Binders\"]\n",
        "      regJustBindersDiscount = justBinders[[\"Region\",\"Discount\",\"State\"]].groupby(by=\"State\").mean().sort_values(by=\"Discount\", ascending = False)\n",
        "      display(regJustBindersDiscount)\n",
        "\n",
        "    elif choice == \"7\":\n",
        "      print(\"Profit, Sales, & Discount Data on Binders in Texas and Illinois\")\n",
        "      justBinders = salesData.loc[salesData[\"Sub-Category\"]==\"Binders\"]\n",
        "      justBindersUnprofit = justBinders.loc[justBinders[\"State\"].isin([\"Texas\",\"Illinois\"])]\n",
        "      bindersRegion = justBindersUnprofit[[\"Region\",\"State\",\"Profit\",\"Sales\",\"Discount\"]]\n",
        "      regionTotalProfSales = bindersRegion.groupby(by=\"State\").sum().sort_values(by=\"Profit\")\n",
        "      display(regionTotalProfSales)\n",
        "\n",
        "    elif choice == 'q':\n",
        "        print(\"\\nHave a great day!\\n\")\n",
        "\n",
        "    else:\n",
        "        print(\"\\nPlease enter a number 1-7 or the letter 'q' to quit.\\n\")\n",
        "        \n",
        "# Print a message that we are all finished.\n",
        "print(\"Goodbye!\")"
      ]
    }
  ],
  "metadata": {
    "colab": {
      "provenance": [],
      "include_colab_link": true
    },
    "kernelspec": {
      "display_name": "Python 3",
      "name": "python3"
    },
    "language_info": {
      "name": "python"
    }
  },
  "nbformat": 4,
  "nbformat_minor": 0
}
