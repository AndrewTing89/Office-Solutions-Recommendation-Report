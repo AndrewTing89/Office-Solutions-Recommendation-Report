{
  "nbformat": 4,
  "nbformat_minor": 0,
  "metadata": {
    "colab": {
      "provenance": [],
      "collapsed_sections": [],
      "authorship_tag": "ABX9TyN1KTelSIHIMXBx0QivixN5",
      "include_colab_link": true
    },
    "kernelspec": {
      "name": "python3",
      "display_name": "Python 3"
    },
    "language_info": {
      "name": "python"
    }
  },
  "cells": [
    {
      "cell_type": "markdown",
      "metadata": {
        "id": "view-in-github",
        "colab_type": "text"
      },
      "source": [
        "<a href=\"https://colab.research.google.com/github/AndrewTing89/Office-Solutions-Recommendation-Report/blob/main/Office_Solutions_Recommendation_Report.ipynb\" target=\"_parent\"><img src=\"https://colab.research.google.com/assets/colab-badge.svg\" alt=\"Open In Colab\"/></a>"
      ]
    },
    {
      "cell_type": "code",
      "execution_count": null,
      "metadata": {
        "colab": {
          "base_uri": "https://localhost:8080/",
          "height": 1000
        },
        "id": "lD47P0QStdaA",
        "outputId": "3d709459-721a-4955-922e-24b848f11107"
      },
      "outputs": [
        {
          "output_type": "display_data",
          "data": {
            "text/plain": [
              "   Row ID        Order ID Order Date  Ship Date       Ship Mode Customer ID  \\\n",
              "0    4919  CA-2016-160304 2016-01-02 2016-01-07  Standard Class    BM-11575   \n",
              "1    4920  CA-2016-160304 2016-01-02 2016-01-07  Standard Class    BM-11575   \n",
              "2    3074  CA-2016-125206 2016-01-03 2016-01-05     First Class    LR-16915   \n",
              "3    8604  US-2016-116365 2016-01-03 2016-01-08  Standard Class    CA-12310   \n",
              "4    8605  US-2016-116365 2016-01-03 2016-01-08  Standard Class    CA-12310   \n",
              "5    8606  US-2016-116365 2016-01-03 2016-01-08  Standard Class    CA-12310   \n",
              "6    9494  CA-2016-105207 2016-01-03 2016-01-08  Standard Class    BO-11350   \n",
              "7    9495  CA-2016-105207 2016-01-03 2016-01-08  Standard Class    BO-11350   \n",
              "8    2898  US-2016-164630 2016-01-04 2016-01-09  Standard Class    EB-13975   \n",
              "9    5868  CA-2016-158211 2016-01-04 2016-01-08  Standard Class    BP-11185   \n",
              "\n",
              "       Customer Name    Segment        Country          City  ... Postal Code  \\\n",
              "0      Brendan Murry  Corporate  United States  Gaithersburg  ...       20877   \n",
              "1      Brendan Murry  Corporate  United States  Gaithersburg  ...       20877   \n",
              "2       Lena Radford   Consumer  United States   Los Angeles  ...       90045   \n",
              "3  Christine Abelman  Corporate  United States   San Antonio  ...       78207   \n",
              "4  Christine Abelman  Corporate  United States   San Antonio  ...       78207   \n",
              "5  Christine Abelman  Corporate  United States   San Antonio  ...       78207   \n",
              "6      Bill Overfelt  Corporate  United States  Broken Arrow  ...       74012   \n",
              "7      Bill Overfelt  Corporate  United States  Broken Arrow  ...       74012   \n",
              "8         Erica Bern  Corporate  United States     Charlotte  ...       28205   \n",
              "9       Ben Peterman  Corporate  United States  Philadelphia  ...       19143   \n",
              "\n",
              "    Region       Product ID         Category Sub-Category  \\\n",
              "0     East  FUR-BO-10004709        Furniture    Bookcases   \n",
              "1     East  TEC-PH-10000455       Technology       Phones   \n",
              "2     West  OFF-ST-10003692  Office Supplies      Storage   \n",
              "3  Central  TEC-AC-10002217       Technology  Accessories   \n",
              "4  Central  TEC-AC-10002942       Technology  Accessories   \n",
              "5  Central  TEC-PH-10002890       Technology       Phones   \n",
              "6  Central  FUR-TA-10000617        Furniture       Tables   \n",
              "7  Central  OFF-BI-10004364  Office Supplies      Binders   \n",
              "8    South  TEC-CO-10000971       Technology      Copiers   \n",
              "9     East  OFF-AR-10004078  Office Supplies          Art   \n",
              "\n",
              "                                        Product Name     Sales  Quantity  \\\n",
              "0  Bush Westfield Collection Bookcases, Medium Ch...   173.940         3   \n",
              "1                                        GE 30522EE2   231.980         2   \n",
              "2  Recycled Steel Personal File for Hanging File ...   114.460         2   \n",
              "3                Imation Clip USB flash drive - 8 GB    30.080         2   \n",
              "4  WD My Passport Ultra 1TB Portable External Har...   165.600         3   \n",
              "5                      AT&T 17929 Lendline Telephone   180.960         5   \n",
              "6  Hon Practical Foundations 30 x 60 Training Tab...  1592.850         7   \n",
              "7                            Storex Dura Pro Binders    11.880         2   \n",
              "8           Hewlett Packard 310 Color Digital Copier   959.968         4   \n",
              "9                                         Newell 312     4.672         1   \n",
              "\n",
              "   Discount    Profit  \n",
              "0       0.0   38.2668  \n",
              "1       0.0   67.2742  \n",
              "2       0.0   28.6150  \n",
              "3       0.2   -5.2640  \n",
              "4       0.2   -6.2100  \n",
              "5       0.2   13.5720  \n",
              "6       0.0  350.4270  \n",
              "7       0.0    5.3460  \n",
              "8       0.2  119.9960  \n",
              "9       0.2    0.5840  \n",
              "\n",
              "[10 rows x 21 columns]"
            ],
            "text/html": [
              "\n",
              "  <div id=\"df-92f4cd37-d6d4-44ce-844f-07e562cef1c0\">\n",
              "    <div class=\"colab-df-container\">\n",
              "      <div>\n",
              "<style scoped>\n",
              "    .dataframe tbody tr th:only-of-type {\n",
              "        vertical-align: middle;\n",
              "    }\n",
              "\n",
              "    .dataframe tbody tr th {\n",
              "        vertical-align: top;\n",
              "    }\n",
              "\n",
              "    .dataframe thead th {\n",
              "        text-align: right;\n",
              "    }\n",
              "</style>\n",
              "<table border=\"1\" class=\"dataframe\">\n",
              "  <thead>\n",
              "    <tr style=\"text-align: right;\">\n",
              "      <th></th>\n",
              "      <th>Row ID</th>\n",
              "      <th>Order ID</th>\n",
              "      <th>Order Date</th>\n",
              "      <th>Ship Date</th>\n",
              "      <th>Ship Mode</th>\n",
              "      <th>Customer ID</th>\n",
              "      <th>Customer Name</th>\n",
              "      <th>Segment</th>\n",
              "      <th>Country</th>\n",
              "      <th>City</th>\n",
              "      <th>...</th>\n",
              "      <th>Postal Code</th>\n",
              "      <th>Region</th>\n",
              "      <th>Product ID</th>\n",
              "      <th>Category</th>\n",
              "      <th>Sub-Category</th>\n",
              "      <th>Product Name</th>\n",
              "      <th>Sales</th>\n",
              "      <th>Quantity</th>\n",
              "      <th>Discount</th>\n",
              "      <th>Profit</th>\n",
              "    </tr>\n",
              "  </thead>\n",
              "  <tbody>\n",
              "    <tr>\n",
              "      <th>0</th>\n",
              "      <td>4919</td>\n",
              "      <td>CA-2016-160304</td>\n",
              "      <td>2016-01-02</td>\n",
              "      <td>2016-01-07</td>\n",
              "      <td>Standard Class</td>\n",
              "      <td>BM-11575</td>\n",
              "      <td>Brendan Murry</td>\n",
              "      <td>Corporate</td>\n",
              "      <td>United States</td>\n",
              "      <td>Gaithersburg</td>\n",
              "      <td>...</td>\n",
              "      <td>20877</td>\n",
              "      <td>East</td>\n",
              "      <td>FUR-BO-10004709</td>\n",
              "      <td>Furniture</td>\n",
              "      <td>Bookcases</td>\n",
              "      <td>Bush Westfield Collection Bookcases, Medium Ch...</td>\n",
              "      <td>173.940</td>\n",
              "      <td>3</td>\n",
              "      <td>0.0</td>\n",
              "      <td>38.2668</td>\n",
              "    </tr>\n",
              "    <tr>\n",
              "      <th>1</th>\n",
              "      <td>4920</td>\n",
              "      <td>CA-2016-160304</td>\n",
              "      <td>2016-01-02</td>\n",
              "      <td>2016-01-07</td>\n",
              "      <td>Standard Class</td>\n",
              "      <td>BM-11575</td>\n",
              "      <td>Brendan Murry</td>\n",
              "      <td>Corporate</td>\n",
              "      <td>United States</td>\n",
              "      <td>Gaithersburg</td>\n",
              "      <td>...</td>\n",
              "      <td>20877</td>\n",
              "      <td>East</td>\n",
              "      <td>TEC-PH-10000455</td>\n",
              "      <td>Technology</td>\n",
              "      <td>Phones</td>\n",
              "      <td>GE 30522EE2</td>\n",
              "      <td>231.980</td>\n",
              "      <td>2</td>\n",
              "      <td>0.0</td>\n",
              "      <td>67.2742</td>\n",
              "    </tr>\n",
              "    <tr>\n",
              "      <th>2</th>\n",
              "      <td>3074</td>\n",
              "      <td>CA-2016-125206</td>\n",
              "      <td>2016-01-03</td>\n",
              "      <td>2016-01-05</td>\n",
              "      <td>First Class</td>\n",
              "      <td>LR-16915</td>\n",
              "      <td>Lena Radford</td>\n",
              "      <td>Consumer</td>\n",
              "      <td>United States</td>\n",
              "      <td>Los Angeles</td>\n",
              "      <td>...</td>\n",
              "      <td>90045</td>\n",
              "      <td>West</td>\n",
              "      <td>OFF-ST-10003692</td>\n",
              "      <td>Office Supplies</td>\n",
              "      <td>Storage</td>\n",
              "      <td>Recycled Steel Personal File for Hanging File ...</td>\n",
              "      <td>114.460</td>\n",
              "      <td>2</td>\n",
              "      <td>0.0</td>\n",
              "      <td>28.6150</td>\n",
              "    </tr>\n",
              "    <tr>\n",
              "      <th>3</th>\n",
              "      <td>8604</td>\n",
              "      <td>US-2016-116365</td>\n",
              "      <td>2016-01-03</td>\n",
              "      <td>2016-01-08</td>\n",
              "      <td>Standard Class</td>\n",
              "      <td>CA-12310</td>\n",
              "      <td>Christine Abelman</td>\n",
              "      <td>Corporate</td>\n",
              "      <td>United States</td>\n",
              "      <td>San Antonio</td>\n",
              "      <td>...</td>\n",
              "      <td>78207</td>\n",
              "      <td>Central</td>\n",
              "      <td>TEC-AC-10002217</td>\n",
              "      <td>Technology</td>\n",
              "      <td>Accessories</td>\n",
              "      <td>Imation Clip USB flash drive - 8 GB</td>\n",
              "      <td>30.080</td>\n",
              "      <td>2</td>\n",
              "      <td>0.2</td>\n",
              "      <td>-5.2640</td>\n",
              "    </tr>\n",
              "    <tr>\n",
              "      <th>4</th>\n",
              "      <td>8605</td>\n",
              "      <td>US-2016-116365</td>\n",
              "      <td>2016-01-03</td>\n",
              "      <td>2016-01-08</td>\n",
              "      <td>Standard Class</td>\n",
              "      <td>CA-12310</td>\n",
              "      <td>Christine Abelman</td>\n",
              "      <td>Corporate</td>\n",
              "      <td>United States</td>\n",
              "      <td>San Antonio</td>\n",
              "      <td>...</td>\n",
              "      <td>78207</td>\n",
              "      <td>Central</td>\n",
              "      <td>TEC-AC-10002942</td>\n",
              "      <td>Technology</td>\n",
              "      <td>Accessories</td>\n",
              "      <td>WD My Passport Ultra 1TB Portable External Har...</td>\n",
              "      <td>165.600</td>\n",
              "      <td>3</td>\n",
              "      <td>0.2</td>\n",
              "      <td>-6.2100</td>\n",
              "    </tr>\n",
              "    <tr>\n",
              "      <th>5</th>\n",
              "      <td>8606</td>\n",
              "      <td>US-2016-116365</td>\n",
              "      <td>2016-01-03</td>\n",
              "      <td>2016-01-08</td>\n",
              "      <td>Standard Class</td>\n",
              "      <td>CA-12310</td>\n",
              "      <td>Christine Abelman</td>\n",
              "      <td>Corporate</td>\n",
              "      <td>United States</td>\n",
              "      <td>San Antonio</td>\n",
              "      <td>...</td>\n",
              "      <td>78207</td>\n",
              "      <td>Central</td>\n",
              "      <td>TEC-PH-10002890</td>\n",
              "      <td>Technology</td>\n",
              "      <td>Phones</td>\n",
              "      <td>AT&amp;T 17929 Lendline Telephone</td>\n",
              "      <td>180.960</td>\n",
              "      <td>5</td>\n",
              "      <td>0.2</td>\n",
              "      <td>13.5720</td>\n",
              "    </tr>\n",
              "    <tr>\n",
              "      <th>6</th>\n",
              "      <td>9494</td>\n",
              "      <td>CA-2016-105207</td>\n",
              "      <td>2016-01-03</td>\n",
              "      <td>2016-01-08</td>\n",
              "      <td>Standard Class</td>\n",
              "      <td>BO-11350</td>\n",
              "      <td>Bill Overfelt</td>\n",
              "      <td>Corporate</td>\n",
              "      <td>United States</td>\n",
              "      <td>Broken Arrow</td>\n",
              "      <td>...</td>\n",
              "      <td>74012</td>\n",
              "      <td>Central</td>\n",
              "      <td>FUR-TA-10000617</td>\n",
              "      <td>Furniture</td>\n",
              "      <td>Tables</td>\n",
              "      <td>Hon Practical Foundations 30 x 60 Training Tab...</td>\n",
              "      <td>1592.850</td>\n",
              "      <td>7</td>\n",
              "      <td>0.0</td>\n",
              "      <td>350.4270</td>\n",
              "    </tr>\n",
              "    <tr>\n",
              "      <th>7</th>\n",
              "      <td>9495</td>\n",
              "      <td>CA-2016-105207</td>\n",
              "      <td>2016-01-03</td>\n",
              "      <td>2016-01-08</td>\n",
              "      <td>Standard Class</td>\n",
              "      <td>BO-11350</td>\n",
              "      <td>Bill Overfelt</td>\n",
              "      <td>Corporate</td>\n",
              "      <td>United States</td>\n",
              "      <td>Broken Arrow</td>\n",
              "      <td>...</td>\n",
              "      <td>74012</td>\n",
              "      <td>Central</td>\n",
              "      <td>OFF-BI-10004364</td>\n",
              "      <td>Office Supplies</td>\n",
              "      <td>Binders</td>\n",
              "      <td>Storex Dura Pro Binders</td>\n",
              "      <td>11.880</td>\n",
              "      <td>2</td>\n",
              "      <td>0.0</td>\n",
              "      <td>5.3460</td>\n",
              "    </tr>\n",
              "    <tr>\n",
              "      <th>8</th>\n",
              "      <td>2898</td>\n",
              "      <td>US-2016-164630</td>\n",
              "      <td>2016-01-04</td>\n",
              "      <td>2016-01-09</td>\n",
              "      <td>Standard Class</td>\n",
              "      <td>EB-13975</td>\n",
              "      <td>Erica Bern</td>\n",
              "      <td>Corporate</td>\n",
              "      <td>United States</td>\n",
              "      <td>Charlotte</td>\n",
              "      <td>...</td>\n",
              "      <td>28205</td>\n",
              "      <td>South</td>\n",
              "      <td>TEC-CO-10000971</td>\n",
              "      <td>Technology</td>\n",
              "      <td>Copiers</td>\n",
              "      <td>Hewlett Packard 310 Color Digital Copier</td>\n",
              "      <td>959.968</td>\n",
              "      <td>4</td>\n",
              "      <td>0.2</td>\n",
              "      <td>119.9960</td>\n",
              "    </tr>\n",
              "    <tr>\n",
              "      <th>9</th>\n",
              "      <td>5868</td>\n",
              "      <td>CA-2016-158211</td>\n",
              "      <td>2016-01-04</td>\n",
              "      <td>2016-01-08</td>\n",
              "      <td>Standard Class</td>\n",
              "      <td>BP-11185</td>\n",
              "      <td>Ben Peterman</td>\n",
              "      <td>Corporate</td>\n",
              "      <td>United States</td>\n",
              "      <td>Philadelphia</td>\n",
              "      <td>...</td>\n",
              "      <td>19143</td>\n",
              "      <td>East</td>\n",
              "      <td>OFF-AR-10004078</td>\n",
              "      <td>Office Supplies</td>\n",
              "      <td>Art</td>\n",
              "      <td>Newell 312</td>\n",
              "      <td>4.672</td>\n",
              "      <td>1</td>\n",
              "      <td>0.2</td>\n",
              "      <td>0.5840</td>\n",
              "    </tr>\n",
              "  </tbody>\n",
              "</table>\n",
              "<p>10 rows × 21 columns</p>\n",
              "</div>\n",
              "      <button class=\"colab-df-convert\" onclick=\"convertToInteractive('df-92f4cd37-d6d4-44ce-844f-07e562cef1c0')\"\n",
              "              title=\"Convert this dataframe to an interactive table.\"\n",
              "              style=\"display:none;\">\n",
              "        \n",
              "  <svg xmlns=\"http://www.w3.org/2000/svg\" height=\"24px\"viewBox=\"0 0 24 24\"\n",
              "       width=\"24px\">\n",
              "    <path d=\"M0 0h24v24H0V0z\" fill=\"none\"/>\n",
              "    <path d=\"M18.56 5.44l.94 2.06.94-2.06 2.06-.94-2.06-.94-.94-2.06-.94 2.06-2.06.94zm-11 1L8.5 8.5l.94-2.06 2.06-.94-2.06-.94L8.5 2.5l-.94 2.06-2.06.94zm10 10l.94 2.06.94-2.06 2.06-.94-2.06-.94-.94-2.06-.94 2.06-2.06.94z\"/><path d=\"M17.41 7.96l-1.37-1.37c-.4-.4-.92-.59-1.43-.59-.52 0-1.04.2-1.43.59L10.3 9.45l-7.72 7.72c-.78.78-.78 2.05 0 2.83L4 21.41c.39.39.9.59 1.41.59.51 0 1.02-.2 1.41-.59l7.78-7.78 2.81-2.81c.8-.78.8-2.07 0-2.86zM5.41 20L4 18.59l7.72-7.72 1.47 1.35L5.41 20z\"/>\n",
              "  </svg>\n",
              "      </button>\n",
              "      \n",
              "  <style>\n",
              "    .colab-df-container {\n",
              "      display:flex;\n",
              "      flex-wrap:wrap;\n",
              "      gap: 12px;\n",
              "    }\n",
              "\n",
              "    .colab-df-convert {\n",
              "      background-color: #E8F0FE;\n",
              "      border: none;\n",
              "      border-radius: 50%;\n",
              "      cursor: pointer;\n",
              "      display: none;\n",
              "      fill: #1967D2;\n",
              "      height: 32px;\n",
              "      padding: 0 0 0 0;\n",
              "      width: 32px;\n",
              "    }\n",
              "\n",
              "    .colab-df-convert:hover {\n",
              "      background-color: #E2EBFA;\n",
              "      box-shadow: 0px 1px 2px rgba(60, 64, 67, 0.3), 0px 1px 3px 1px rgba(60, 64, 67, 0.15);\n",
              "      fill: #174EA6;\n",
              "    }\n",
              "\n",
              "    [theme=dark] .colab-df-convert {\n",
              "      background-color: #3B4455;\n",
              "      fill: #D2E3FC;\n",
              "    }\n",
              "\n",
              "    [theme=dark] .colab-df-convert:hover {\n",
              "      background-color: #434B5C;\n",
              "      box-shadow: 0px 1px 3px 1px rgba(0, 0, 0, 0.15);\n",
              "      filter: drop-shadow(0px 1px 2px rgba(0, 0, 0, 0.3));\n",
              "      fill: #FFFFFF;\n",
              "    }\n",
              "  </style>\n",
              "\n",
              "      <script>\n",
              "        const buttonEl =\n",
              "          document.querySelector('#df-92f4cd37-d6d4-44ce-844f-07e562cef1c0 button.colab-df-convert');\n",
              "        buttonEl.style.display =\n",
              "          google.colab.kernel.accessAllowed ? 'block' : 'none';\n",
              "\n",
              "        async function convertToInteractive(key) {\n",
              "          const element = document.querySelector('#df-92f4cd37-d6d4-44ce-844f-07e562cef1c0');\n",
              "          const dataTable =\n",
              "            await google.colab.kernel.invokeFunction('convertToInteractive',\n",
              "                                                     [key], {});\n",
              "          if (!dataTable) return;\n",
              "\n",
              "          const docLinkHtml = 'Like what you see? Visit the ' +\n",
              "            '<a target=\"_blank\" href=https://colab.research.google.com/notebooks/data_table.ipynb>data table notebook</a>'\n",
              "            + ' to learn more about interactive tables.';\n",
              "          element.innerHTML = '';\n",
              "          dataTable['output_type'] = 'display_data';\n",
              "          await google.colab.output.renderOutput(dataTable, element);\n",
              "          const docLink = document.createElement('div');\n",
              "          docLink.innerHTML = docLinkHtml;\n",
              "          element.appendChild(docLink);\n",
              "        }\n",
              "      </script>\n",
              "    </div>\n",
              "  </div>\n",
              "  "
            ]
          },
          "metadata": {}
        }
      ],
      "source": [
        "import pandas as pd\n",
        "xl=pd.ExcelFile(\"/content/TableauSalesData.xlsx\")\n",
        "salesData = xl.parse(\"Orders\")\n",
        "display(salesData.head(10))"
      ]
    },
    {
      "cell_type": "code",
      "source": [],
      "metadata": {
        "id": "g-BVUAsiZX7B"
      },
      "execution_count": null,
      "outputs": []
    },
    {
      "cell_type": "code",
      "source": [
        "subCatProfits = salesData[[\"Sub-Category\",\"Profit\",\"Sales\"]]\n",
        "print(subCatProfits)\n",
        "\n",
        "totalSubCatProfits = subCatProfits.groupby(by = \"Sub-Category\").sum().sort_values(by = \"Profit\")\n",
        "print(totalSubCatProfits)"
      ],
      "metadata": {
        "colab": {
          "base_uri": "https://localhost:8080/"
        },
        "id": "U8Mf1LfywtJh",
        "outputId": "50cb3bc7-20af-4ea8-f138-d39450c2a324"
      },
      "execution_count": null,
      "outputs": [
        {
          "output_type": "stream",
          "name": "stdout",
          "text": [
            "     Sub-Category    Profit    Sales\n",
            "0       Bookcases   38.2668  173.940\n",
            "1          Phones   67.2742  231.980\n",
            "2         Storage   28.6150  114.460\n",
            "3     Accessories   -5.2640   30.080\n",
            "4     Accessories   -6.2100  165.600\n",
            "...           ...       ...      ...\n",
            "9989      Binders  167.8080  364.800\n",
            "9990      Storage  -26.7204  152.688\n",
            "9991    Fasteners    0.5668    3.488\n",
            "9992     Supplies   -1.3248    5.888\n",
            "9993      Binders   52.3800  116.400\n",
            "\n",
            "[9994 rows x 3 columns]\n",
            "                  Profit        Sales\n",
            "Sub-Category                         \n",
            "Tables       -17725.4811  206965.5320\n",
            "Bookcases     -3472.5560  114879.9963\n",
            "Supplies      -1189.0995   46673.5380\n",
            "Fasteners       949.5182    3024.2800\n",
            "Machines       3384.7569  189238.6310\n",
            "Labels         5546.2540   12486.3120\n",
            "Art            6527.7870   27118.7920\n",
            "Envelopes      6964.1767   16476.4020\n",
            "Furnishings   13059.1436   91705.1640\n",
            "Appliances    18138.0054  107532.1610\n",
            "Storage       21278.8264  223843.6080\n",
            "Chairs        26590.1663  328449.1030\n",
            "Binders       30221.7633  203412.7330\n",
            "Paper         34053.5693   78479.2060\n",
            "Accessories   41936.6357  167380.3180\n",
            "Phones        44515.7306  330007.0540\n",
            "Copiers       55617.8249  149528.0300\n"
          ]
        }
      ]
    },
    {
      "cell_type": "code",
      "source": [
        "justBinders = salesData.loc[salesData[\"Sub-Category\"]==\"Binders\"]\n",
        "print(justBinders.head(10))"
      ],
      "metadata": {
        "colab": {
          "base_uri": "https://localhost:8080/"
        },
        "id": "9abRkVRkwtfJ",
        "outputId": "b403e3d3-9648-4781-f8b5-5fdb44c666cd"
      },
      "execution_count": null,
      "outputs": [
        {
          "output_type": "stream",
          "name": "stdout",
          "text": [
            "    Row ID        Order ID Order Date  Ship Date       Ship Mode Customer ID  \\\n",
            "7     9495  CA-2016-105207 2016-01-03 2016-01-08  Standard Class    BO-11350   \n",
            "10    5869  CA-2016-158211 2016-01-04 2016-01-08  Standard Class    BP-11185   \n",
            "18    6852  US-2016-100461 2016-01-08 2016-01-12  Standard Class    JO-15145   \n",
            "19    7808  US-2016-137295 2016-01-08 2016-01-13  Standard Class    VS-21820   \n",
            "40    3744  CA-2016-137848 2016-01-15 2016-01-21  Standard Class    WB-21850   \n",
            "42      26  CA-2016-121755 2016-01-16 2016-01-20    Second Class    EH-13945   \n",
            "60    6238  US-2016-155180 2016-01-22 2016-01-29  Standard Class    TB-21280   \n",
            "65    4612  CA-2016-109407 2016-01-24 2016-01-26    Second Class    HG-14965   \n",
            "68    9358  CA-2016-168046 2016-01-25 2016-01-28    Second Class    JD-15895   \n",
            "73    2885  CA-2016-164483 2016-01-30 2016-02-03  Standard Class    JF-15490   \n",
            "\n",
            "       Customer Name    Segment        Country           City  ...  \\\n",
            "7      Bill Overfelt  Corporate  United States   Broken Arrow  ...   \n",
            "10      Ben Peterman  Corporate  United States   Philadelphia  ...   \n",
            "18     Jack O'Briant  Corporate  United States       Franklin  ...   \n",
            "19  Vivek Sundaresam   Consumer  United States        Raleigh  ...   \n",
            "40     William Brown   Consumer  United States  New York City  ...   \n",
            "42     Eric Hoffmann   Consumer  United States    Los Angeles  ...   \n",
            "60   Toby Braunhardt   Consumer  United States  New York City  ...   \n",
            "65     Henry Goldwyn  Corporate  United States       Gulfport  ...   \n",
            "68  Jonathan Doherty  Corporate  United States  New York City  ...   \n",
            "73      Jeremy Farry   Consumer  United States  San Francisco  ...   \n",
            "\n",
            "   Postal Code   Region       Product ID         Category Sub-Category  \\\n",
            "7        74012  Central  OFF-BI-10004364  Office Supplies      Binders   \n",
            "10       19143     East  OFF-BI-10002026  Office Supplies      Binders   \n",
            "18       53132  Central  OFF-BI-10001460  Office Supplies      Binders   \n",
            "19       27604    South  OFF-BI-10004236  Office Supplies      Binders   \n",
            "40       10011     East  OFF-BI-10002225  Office Supplies      Binders   \n",
            "42       90049     West  OFF-BI-10001634  Office Supplies      Binders   \n",
            "60       10009     East  OFF-BI-10004506  Office Supplies      Binders   \n",
            "65       39503    South  OFF-BI-10000285  Office Supplies      Binders   \n",
            "68       10024     East  OFF-BI-10003676  Office Supplies      Binders   \n",
            "73       94122     West  OFF-BI-10000014  Office Supplies      Binders   \n",
            "\n",
            "                                         Product Name    Sales  Quantity  \\\n",
            "7                             Storex Dura Pro Binders   11.880         2   \n",
            "10                            Avery Arch Ring Binders  104.580         6   \n",
            "18                              Plastic Binding Combs  106.050         7   \n",
            "19   XtraLife ClearVue Slant-D Ring Binder, White, 3\"   30.828         7   \n",
            "40  Square Ring Data Binders, Rigid 75 Pt. Covers,...   49.536         3   \n",
            "42                    Wilson Jones Active Use Binders   11.648         2   \n",
            "60  Wilson Jones data.warehouse D-Ring Binders wit...   26.336         4   \n",
            "65  XtraLife ClearVue Slant-D Ring Binders by Card...   31.360         4   \n",
            "68  GBC Standard Recycled Report Covers, Clear Pla...   43.120         5   \n",
            "73                           Heavy-Duty E-Z-D Binders   17.456         2   \n",
            "\n",
            "    Discount   Profit  \n",
            "7        0.0   5.3460  \n",
            "10       0.7 -80.1780  \n",
            "18       0.0  49.8435  \n",
            "19       0.7 -24.6624  \n",
            "40       0.2  17.3376  \n",
            "42       0.2   4.2224  \n",
            "60       0.2   9.2176  \n",
            "65       0.0  15.6800  \n",
            "68       0.2  15.0920  \n",
            "73       0.2   5.8914  \n",
            "\n",
            "[10 rows x 21 columns]\n"
          ]
        }
      ]
    },
    {
      "cell_type": "code",
      "source": [
        "justBinders = salesData.loc[salesData[\"Sub-Category\"]==\"Binders\"]\n",
        "\n",
        "justBindersUnprofit = justBinders.loc[justBinders[\"State\"].isin([\"Texas\",\"Illinois\"])]\n",
        "print(justBindersUnprofit.head(10))"
      ],
      "metadata": {
        "colab": {
          "base_uri": "https://localhost:8080/"
        },
        "id": "9IH91f4ZmPOM",
        "outputId": "5e641153-f08c-4fec-8ef8-c046dd4dbdf4"
      },
      "execution_count": null,
      "outputs": [
        {
          "output_type": "stream",
          "name": "stdout",
          "text": [
            "     Row ID        Order ID Order Date  Ship Date       Ship Mode Customer ID  \\\n",
            "81     8926  CA-2016-168032 2016-01-30 2016-02-03  Standard Class    DF-13135   \n",
            "202    8983  CA-2016-110898 2016-03-06 2016-03-12  Standard Class    LC-16870   \n",
            "214    8506  CA-2016-130400 2016-03-08 2016-03-12  Standard Class    SJ-20125   \n",
            "247    2347  CA-2016-159373 2016-03-13 2016-03-18  Standard Class    LT-17110   \n",
            "277    9921  CA-2016-149272 2016-03-15 2016-03-19  Standard Class    MY-18295   \n",
            "298    3172  US-2016-133879 2016-03-21 2016-03-28  Standard Class    KT-16465   \n",
            "382    1200  CA-2016-130946 2016-04-08 2016-04-12  Standard Class    ZC-21910   \n",
            "466    1273  US-2016-103646 2016-04-21 2016-04-26  Standard Class    SP-20545   \n",
            "523    4436  CA-2016-163398 2016-05-03 2016-05-08  Standard Class    CB-12415   \n",
            "547    3359  CA-2016-139234 2016-05-06 2016-05-10  Standard Class    AF-10870   \n",
            "\n",
            "        Customer Name      Segment        Country         City  ...  \\\n",
            "81     David Flashing     Consumer  United States     Rockford  ...   \n",
            "202     Lena Cacioppo     Consumer  United States      Chicago  ...   \n",
            "214     Sanjit Jacobs  Home Office  United States       Dallas  ...   \n",
            "247      Liz Thompson     Consumer  United States  San Antonio  ...   \n",
            "277   Muhammed Yedwab    Corporate  United States        Bryan  ...   \n",
            "298     Kean Takahito     Consumer  United States      Chicago  ...   \n",
            "382  Zuschuss Carroll     Consumer  United States      Houston  ...   \n",
            "466     Sibella Parks    Corporate  United States      Chicago  ...   \n",
            "523  Christy Brittain     Consumer  United States      Chicago  ...   \n",
            "547      Art Ferguson     Consumer  United States      Chicago  ...   \n",
            "\n",
            "    Postal Code   Region       Product ID         Category Sub-Category  \\\n",
            "81        61107  Central  OFF-BI-10000546  Office Supplies      Binders   \n",
            "202       60623  Central  OFF-BI-10004656  Office Supplies      Binders   \n",
            "214       75217  Central  OFF-BI-10001757  Office Supplies      Binders   \n",
            "247       78207  Central  OFF-BI-10004141  Office Supplies      Binders   \n",
            "277       77803  Central  OFF-BI-10004233  Office Supplies      Binders   \n",
            "298       60623  Central  OFF-BI-10004465  Office Supplies      Binders   \n",
            "382       77041  Central  OFF-BI-10004995  Office Supplies      Binders   \n",
            "466       60623  Central  OFF-BI-10002854  Office Supplies      Binders   \n",
            "523       60653  Central  OFF-BI-10000014  Office Supplies      Binders   \n",
            "547       60610  Central  OFF-BI-10000773  Office Supplies      Binders   \n",
            "\n",
            "                                          Product Name     Sales  Quantity  \\\n",
            "81                               Avery Durable Binders     1.728         3   \n",
            "202                 Peel & Stick Add-On Corner Pockets     1.728         4   \n",
            "214  Pressboard Hanging Data Binders for Unburst Sh...     8.856         9   \n",
            "247            Insertable Tab Indexes For Data Binders     1.272         2   \n",
            "277  GBC Pre-Punched Binding Paper, Plastic, White,...    22.386         7   \n",
            "298                   Avery Durable Slant Ring Binders     3.168         2   \n",
            "382          GBC DocuBind P400 Electric Binding System  1088.792         4   \n",
            "466                Performers Binder/Pad Holder, Black    44.848         8   \n",
            "523                           Heavy-Duty E-Z-D Binders     2.182         1   \n",
            "547                Insertable Tab Post Binder Dividers     3.208         2   \n",
            "\n",
            "     Discount     Profit  \n",
            "81        0.8    -2.6784  \n",
            "202       0.8    -2.7648  \n",
            "214       0.8   -14.1696  \n",
            "247       0.8    -2.1624  \n",
            "277       0.8   -35.8176  \n",
            "298       0.8    -4.7520  \n",
            "382       0.8 -1850.9464  \n",
            "466       0.8   -67.2720  \n",
            "523       0.8    -3.6003  \n",
            "547       0.8    -5.2932  \n",
            "\n",
            "[10 rows x 21 columns]\n"
          ]
        }
      ]
    },
    {
      "cell_type": "code",
      "source": [
        "bindersSegment = justBinders[[\"Segment\",\"Profit\",\"Sales\"]]\n",
        "segTotalProfSales = bindersSegment.groupby(by=\"Segment\").sum().sort_values(by=\"Profit\")\n",
        "print(segTotalProfSales)"
      ],
      "metadata": {
        "colab": {
          "base_uri": "https://localhost:8080/"
        },
        "id": "I56WeDJWycK1",
        "outputId": "16eb7868-3fbf-4c27-ed91-fb3e8bc3a09f"
      },
      "execution_count": null,
      "outputs": [
        {
          "output_type": "stream",
          "name": "stdout",
          "text": [
            "                 Profit       Sales\n",
            "Segment                            \n",
            "Home Office   5848.8460   33691.411\n",
            "Corporate     6377.3201   51560.313\n",
            "Consumer     17995.5972  118161.009\n"
          ]
        }
      ]
    },
    {
      "cell_type": "code",
      "source": [
        "bindersRegion = justBinders[[\"Region\",\"Profit\",\"Sales\"]]\n",
        "regionTotalProfSales = bindersRegion.groupby(by=\"Region\").sum().sort_values(by=\"Profit\")\n",
        "print(regionTotalProfSales)"
      ],
      "metadata": {
        "colab": {
          "base_uri": "https://localhost:8080/"
        },
        "id": "ZzI3z53fyr-x",
        "outputId": "0939bda2-0ace-4d9d-de2a-d41860303a2a"
      },
      "execution_count": null,
      "outputs": [
        {
          "output_type": "stream",
          "name": "stdout",
          "text": [
            "             Profit      Sales\n",
            "Region                        \n",
            "Central  -1043.6369  56923.282\n",
            "South     3900.6640  37030.341\n",
            "East     11267.9346  53497.997\n",
            "West     16096.8016  55961.113\n"
          ]
        }
      ]
    },
    {
      "cell_type": "code",
      "source": [
        "bindersSegRegion = justBinders[[\"Segment\",\"Region\",\"Profit\",\"Sales\"]]\n",
        "centralBindersSegment = bindersSegRegion.loc[bindersSegRegion[\"Region\"]==\"Central\"]\n",
        "centralProfSales = centralBindersSegment.groupby(by=\"Segment\").sum().sort_values(by=\"Profit\")\n",
        "print(centralProfSales)"
      ],
      "metadata": {
        "id": "6ud-aHUmy7AK",
        "colab": {
          "base_uri": "https://localhost:8080/"
        },
        "outputId": "3c5d0dfc-ee39-458a-bef3-70430126b2b4"
      },
      "execution_count": null,
      "outputs": [
        {
          "output_type": "stream",
          "name": "stdout",
          "text": [
            "                Profit      Sales\n",
            "Segment                          \n",
            "Corporate   -4420.4249   8879.540\n",
            "Home Office  1544.4670   8350.166\n",
            "Consumer     1832.3210  39693.576\n"
          ]
        }
      ]
    },
    {
      "cell_type": "code",
      "source": [
        "bindersStateProf = justBinders[[\"Segment\",\"Region\",\"State\",\"Profit\",\"Sales\"]]\n",
        "bindersStateProfit = bindersStateProf.loc[bindersStateProf[\"Region\"]==\"Central\"]\n",
        "bindersStateProfitSorted = bindersStateProfit.groupby(by=\"State\").sum().sort_values(by=\"Profit\")\n",
        "print(bindersStateProfitSorted)"
      ],
      "metadata": {
        "colab": {
          "base_uri": "https://localhost:8080/"
        },
        "id": "5QQnD32DbS4M",
        "outputId": "043bed5f-3552-4aa1-aa3c-84f5aedb17a7"
      },
      "execution_count": null,
      "outputs": [
        {
          "output_type": "stream",
          "name": "stdout",
          "text": [
            "                  Profit      Sales\n",
            "State                              \n",
            "Texas        -14705.0738   9042.676\n",
            "Illinois      -7204.3242   4538.546\n",
            "North Dakota     12.6910     25.900\n",
            "South Dakota     55.6446    114.510\n",
            "Nebraska         60.4036    128.230\n",
            "Iowa            118.7179    247.960\n",
            "Oklahoma        209.7537    445.440\n",
            "Kansas          279.4432    611.920\n",
            "Wisconsin       282.7635    588.390\n",
            "Missouri        898.4064   1875.620\n",
            "Indiana        1827.1562   4011.880\n",
            "Minnesota      6041.2760  12470.240\n",
            "Michigan      11079.5050  22821.970\n"
          ]
        }
      ]
    },
    {
      "cell_type": "code",
      "source": [
        "bindersStateUnprof = justBindersUnprofit[[\"Segment\",\"Region\",\"State\",\"Profit\",\"Sales\"]]\n",
        "bindersStateUnprofit = bindersStateUnprof.loc[bindersStateUnprof[\"State\"].isin([\"Texas\",\"Illinois\"])]\n",
        "bindersStateUnprofitSorted = bindersStateUnprofit.groupby(by=\"State\").sum().sort_values(by=\"Profit\")\n",
        "print(bindersStateUnprofitSorted)"
      ],
      "metadata": {
        "colab": {
          "base_uri": "https://localhost:8080/"
        },
        "id": "eLV8MsaclFYI",
        "outputId": "4925a807-4ea0-435c-c053-6a801f579e99"
      },
      "execution_count": null,
      "outputs": [
        {
          "output_type": "stream",
          "name": "stdout",
          "text": [
            "              Profit     Sales\n",
            "State                         \n",
            "Texas    -14705.0738  9042.676\n",
            "Illinois  -7204.3242  4538.546\n"
          ]
        }
      ]
    },
    {
      "cell_type": "code",
      "source": [
        "#Discount Rate in Texas\n",
        "justBindersDiscount = justBindersUnprofit[[\"State\",\"Product Name\",\"Discount\",\"Profit\"]]\n",
        "justBindersDiscountTX = justBindersDiscount.loc[justBindersDiscount[\"State\"]==\"Texas\"]\n",
        "aveDiscount = justBindersDiscountTX.mean()\n",
        "print(aveDiscount)\n",
        "print('*'*40)\n",
        "profitTX = justBindersDiscountTX.sum()\n",
        "print(profitTX)\n"
      ],
      "metadata": {
        "colab": {
          "base_uri": "https://localhost:8080/"
        },
        "id": "y6XPoDtdea-w",
        "outputId": "9a38dfff-a5ff-4d3b-8cd5-9326b8c23f2f"
      },
      "execution_count": null,
      "outputs": [
        {
          "output_type": "stream",
          "name": "stdout",
          "text": [
            "Discount     0.800000\n",
            "Profit     -96.111593\n",
            "dtype: float64\n",
            "****************************************\n",
            "State           TexasTexasTexasTexasTexasTexasTexasTexasTexasT...\n",
            "Product Name    Pressboard Hanging Data Binders for Unburst Sh...\n",
            "Discount                                                    122.4\n",
            "Profit                                                -14705.0738\n",
            "dtype: object\n"
          ]
        },
        {
          "output_type": "stream",
          "name": "stderr",
          "text": [
            "/usr/local/lib/python3.7/dist-packages/ipykernel_launcher.py:4: FutureWarning: Dropping of nuisance columns in DataFrame reductions (with 'numeric_only=None') is deprecated; in a future version this will raise TypeError.  Select only valid columns before calling the reduction.\n",
            "  after removing the cwd from sys.path.\n"
          ]
        }
      ]
    },
    {
      "cell_type": "code",
      "source": [
        "#Discount Rate in Illinois\n",
        "justBindersDiscount = justBindersUnprofit[[\"State\",\"Product Name\",\"Discount\",\"Profit\"]]\n",
        "justBindersDiscountIL = justBindersDiscount.loc[justBindersDiscount[\"State\"]==\"Illinois\"]\n",
        "aveDiscount = justBindersDiscountIL.mean()\n",
        "print(aveDiscount)\n",
        "print('*'*40)\n",
        "profitIL = justBindersDiscountIL.sum()\n",
        "print(profitIL)"
      ],
      "metadata": {
        "colab": {
          "base_uri": "https://localhost:8080/"
        },
        "id": "aKkEMPf-e8Qs",
        "outputId": "32e21703-6248-492d-ab2a-ebbed9a0e7bb"
      },
      "execution_count": null,
      "outputs": [
        {
          "output_type": "stream",
          "name": "stdout",
          "text": [
            "Discount     0.800000\n",
            "Profit     -90.054053\n",
            "dtype: float64\n",
            "****************************************\n",
            "State           IllinoisIllinoisIllinoisIllinoisIllinoisIllino...\n",
            "Product Name    Avery Durable BindersPeel & Stick Add-On Corne...\n",
            "Discount                                                     64.0\n",
            "Profit                                                 -7204.3242\n",
            "dtype: object\n"
          ]
        },
        {
          "output_type": "stream",
          "name": "stderr",
          "text": [
            "/usr/local/lib/python3.7/dist-packages/ipykernel_launcher.py:4: FutureWarning: Dropping of nuisance columns in DataFrame reductions (with 'numeric_only=None') is deprecated; in a future version this will raise TypeError.  Select only valid columns before calling the reduction.\n",
            "  after removing the cwd from sys.path.\n"
          ]
        }
      ]
    },
    {
      "cell_type": "code",
      "source": [
        "#Discount Rate in Illinois AND Texas\n",
        "justBindersDiscount = justBindersUnprofit[[\"State\",\"Product Name\",\"Discount\",\"Profit\"]]\n",
        "justBindersDiscountUnprof = justBindersDiscount.loc[justBindersDiscount[\"State\"].isin([\"Texas\",\"Illinois\"])]\n",
        "aveDiscount = justBindersDiscountUnprof.mean()\n",
        "print(aveDiscount)\n"
      ],
      "metadata": {
        "colab": {
          "base_uri": "https://localhost:8080/"
        },
        "id": "eQh-zEdliWiI",
        "outputId": "e8dacdea-c902-40d5-b139-c6bd1f971fca"
      },
      "execution_count": null,
      "outputs": [
        {
          "output_type": "stream",
          "name": "stdout",
          "text": [
            "Discount     0.800000\n",
            "Profit     -94.031751\n",
            "dtype: float64\n"
          ]
        },
        {
          "output_type": "stream",
          "name": "stderr",
          "text": [
            "/usr/local/lib/python3.7/dist-packages/ipykernel_launcher.py:4: FutureWarning: Dropping of nuisance columns in DataFrame reductions (with 'numeric_only=None') is deprecated; in a future version this will raise TypeError.  Select only valid columns before calling the reduction.\n",
            "  after removing the cwd from sys.path.\n"
          ]
        }
      ]
    },
    {
      "cell_type": "code",
      "source": [
        "import scipy.stats\n",
        "x = \"Discount\"\n",
        "y = \"Sales\"\n",
        "GetCorrelation = scipy.stats.spearmanr(justBinders[x], justBinders[y])\n",
        "Corr = GetCorrelation[0]\n",
        "CorrRounded = str(Corr.round(2))\n",
        "pValue = GetCorrelation[1]\n",
        "pValueRounded = str(pValue.round(5))\n",
        "print(\"The correlation between \" + x + \" and \" + y + \" is: \" + CorrRounded)\n",
        "print(\"At p value: \" + pValueRounded)"
      ],
      "metadata": {
        "colab": {
          "base_uri": "https://localhost:8080/"
        },
        "id": "mJjMckOpJ3-_",
        "outputId": "81f64de5-c4b7-4dc6-ec8c-0935c766c875"
      },
      "execution_count": null,
      "outputs": [
        {
          "output_type": "stream",
          "name": "stdout",
          "text": [
            "The correlation between Discount and Sales is: -0.43\n",
            "At p value: 0.0\n"
          ]
        }
      ]
    },
    {
      "cell_type": "code",
      "source": [
        "#make a copy to preserve previous dataframe\n",
        "justBindersYears = justBindersUnprofit.copy()\n",
        "\n",
        "#create a new column called year and fill it with the year portion of each row's order date\n",
        "justBindersYears[\"Year\"] = justBindersUnprofit[\"Order Date\"].dt.year\n",
        "\n",
        "#check to make sure out new year column is there (at the end)\n",
        "print(justBindersYears.columns)"
      ],
      "metadata": {
        "colab": {
          "base_uri": "https://localhost:8080/"
        },
        "id": "3gN2vWJ5PUZw",
        "outputId": "9110202a-2256-46c3-b0aa-5b260e2e3dbc"
      },
      "execution_count": null,
      "outputs": [
        {
          "output_type": "stream",
          "name": "stdout",
          "text": [
            "Index(['Row ID', 'Order ID', 'Order Date', 'Ship Date', 'Ship Mode',\n",
            "       'Customer ID', 'Customer Name', 'Segment', 'Country', 'City', 'State',\n",
            "       'Postal Code', 'Region', 'Product ID', 'Category', 'Sub-Category',\n",
            "       'Product Name', 'Sales', 'Quantity', 'Discount', 'Profit', 'Year'],\n",
            "      dtype='object')\n"
          ]
        }
      ]
    },
    {
      "cell_type": "code",
      "source": [
        "#AVERAGE BINDER DISCOUNTS BY REGION\n",
        "\n",
        "justBinders = salesData.loc[salesData[\"Sub-Category\"]==\"Binders\"]\n",
        "\n",
        "#Grouping by region and averaging discount\n",
        "regJustBindersDiscount = justBinders[[\"Region\",\"Discount\"]].groupby(by=\"Region\").mean()\n",
        "print(regJustBindersDiscount)\n",
        "print(\"*\"*40)\n",
        "\n",
        "bindersRegion = justBinders[[\"Region\",\"Profit\",\"Sales\"]]\n",
        "regionTotalProfSales = bindersRegion.groupby(by=\"Region\").sum().sort_values(by=\"Profit\")\n",
        "print(regionTotalProfSales)"
      ],
      "metadata": {
        "colab": {
          "base_uri": "https://localhost:8080/"
        },
        "id": "CVOab8F5QeoV",
        "outputId": "f732c4b4-031d-4b2c-fd0c-e2a65f633cfb"
      },
      "execution_count": null,
      "outputs": [
        {
          "output_type": "stream",
          "name": "stdout",
          "text": [
            "         Discount\n",
            "Region           \n",
            "Central  0.509290\n",
            "East     0.353409\n",
            "South    0.375610\n",
            "West     0.281741\n",
            "****************************************\n",
            "             Profit      Sales\n",
            "Region                        \n",
            "Central  -1043.6369  56923.282\n",
            "South     3900.6640  37030.341\n",
            "East     11267.9346  53497.997\n",
            "West     16096.8016  55961.113\n"
          ]
        }
      ]
    },
    {
      "cell_type": "code",
      "source": [
        "regJustBindersDiscount = justBinders[[\"Region\",\"Discount\",\"State\"]].groupby(by=\"State\").mean().sort_values(by=\"Discount\", ascending = False)\n",
        "print(regJustBindersDiscount)\n",
        "\n"
      ],
      "metadata": {
        "id": "oSjeLPS3nRBd",
        "colab": {
          "base_uri": "https://localhost:8080/"
        },
        "outputId": "4618169e-9b90-44d2-c774-833540d00c11"
      },
      "execution_count": null,
      "outputs": [
        {
          "output_type": "stream",
          "name": "stdout",
          "text": [
            "                      Discount\n",
            "State                         \n",
            "Texas                      0.8\n",
            "Illinois                   0.8\n",
            "Arizona                    0.7\n",
            "Oregon                     0.7\n",
            "Pennsylvania               0.7\n",
            "Colorado                   0.7\n",
            "North Carolina             0.7\n",
            "Florida                    0.7\n",
            "Ohio                       0.7\n",
            "Tennessee                  0.7\n",
            "Montana                    0.2\n",
            "Utah                       0.2\n",
            "New York                   0.2\n",
            "Nevada                     0.2\n",
            "Idaho                      0.2\n",
            "California                 0.2\n",
            "New Mexico                 0.2\n",
            "Washington                 0.2\n",
            "North Dakota               0.0\n",
            "Alabama                    0.0\n",
            "Oklahoma                   0.0\n",
            "Rhode Island               0.0\n",
            "South Carolina             0.0\n",
            "New Jersey                 0.0\n",
            "Virginia                   0.0\n",
            "West Virginia              0.0\n",
            "South Dakota               0.0\n",
            "Missouri                   0.0\n",
            "New Hampshire              0.0\n",
            "Kansas                     0.0\n",
            "Arkansas                   0.0\n",
            "Connecticut                0.0\n",
            "Delaware                   0.0\n",
            "District of Columbia       0.0\n",
            "Georgia                    0.0\n",
            "Indiana                    0.0\n",
            "Iowa                       0.0\n",
            "Kentucky                   0.0\n",
            "Nebraska                   0.0\n",
            "Louisiana                  0.0\n",
            "Maine                      0.0\n",
            "Maryland                   0.0\n",
            "Massachusetts              0.0\n",
            "Michigan                   0.0\n",
            "Minnesota                  0.0\n",
            "Mississippi                0.0\n",
            "Wisconsin                  0.0\n"
          ]
        }
      ]
    },
    {
      "cell_type": "code",
      "source": [],
      "metadata": {
        "id": "jZNRvh8iL1em"
      },
      "execution_count": null,
      "outputs": []
    },
    {
      "cell_type": "code",
      "source": [
        "#AVERAGE BINDER DISCOUNTS BY STATE\n",
        "\n",
        "\n",
        "#Grouping by region and averaging discount\n",
        "regJustBindersDiscount = justBindersUnprofit[[\"Region\",\"State\",\"Discount\"]].groupby(by=\"State\").mean()\n",
        "print(regJustBindersDiscount)\n",
        "print(\"*\"*40)\n",
        "\n",
        "bindersRegion = justBindersUnprofit[[\"Region\",\"State\",\"Profit\",\"Sales\",\"Discount\"]]\n",
        "regionTotalProfSales = bindersRegion.groupby(by=\"State\").sum().sort_values(by=\"Profit\")\n",
        "print(regionTotalProfSales)"
      ],
      "metadata": {
        "colab": {
          "base_uri": "https://localhost:8080/"
        },
        "id": "vqnSgLXlkJC5",
        "outputId": "6077d81b-6d7e-4cb7-8d37-e913e6656a9d"
      },
      "execution_count": null,
      "outputs": [
        {
          "output_type": "stream",
          "name": "stdout",
          "text": [
            "          Discount\n",
            "State             \n",
            "Illinois       0.8\n",
            "Texas          0.8\n",
            "****************************************\n",
            "              Profit     Sales  Discount\n",
            "State                                   \n",
            "Texas    -14705.0738  9042.676     122.4\n",
            "Illinois  -7204.3242  4538.546      64.0\n"
          ]
        }
      ]
    },
    {
      "cell_type": "code",
      "source": [
        "# ^^^Correlation between profits and discounts^^^"
      ],
      "metadata": {
        "id": "ahPvRZzNQ3p1"
      },
      "execution_count": null,
      "outputs": []
    },
    {
      "cell_type": "code",
      "source": [
        "#PART 9:BASIC GRAPHS\n",
        "\n",
        "import pandas as pd\n",
        "import matplotlib.pyplot as plt\n",
        "import seaborn as sns\n",
        "xl = pd.ExcelFile(\"/content/TableauSalesData.xlsx\")\n",
        "salesData = xl.parse(\"Orders\")\n",
        "\n",
        "\n",
        "justBindersYears = justBindersUnprofit.copy()\n",
        "justBindersYears[\"Year\"] = justBindersYears[\"Order Date\"].dt.year\n",
        "\n",
        "justBindersYearsSales = justBindersYears[[\"Year\",\"Sales\"]].groupby(by=\"Year\").sum()\n",
        "#print(justBookcasesYearsSales)\n",
        "\n",
        "#reset_index() is an important step for graphs when we've used .groupby\n",
        "justBindersYearsSales = justBindersYearsSales.reset_index()\n",
        "print(justBindersYearsSales)"
      ],
      "metadata": {
        "colab": {
          "base_uri": "https://localhost:8080/"
        },
        "id": "4k4fvIyGc1pJ",
        "outputId": "37ba43f6-5947-4c57-b4ce-60da848fe755"
      },
      "execution_count": null,
      "outputs": [
        {
          "output_type": "stream",
          "name": "stdout",
          "text": [
            "   Year     Sales\n",
            "0  2016  1860.110\n",
            "1  2017  6809.936\n",
            "2  2018  4189.858\n",
            "3  2019   721.318\n"
          ]
        }
      ]
    },
    {
      "cell_type": "code",
      "source": [
        "justBindersYearsSales = justBindersYears[[\"State\",\"Sales\"]].groupby(by=\"State\").sum()\n",
        "justBindersYearsSales = justBindersYearsSales.reset_index()\n",
        "\n",
        "#This line tells seaborn what to plot on the x axis & what to plot on the y axis, & which dataframe has the data\n",
        "barchart1 = sns.barplot(x=\"State\",y=\"Sales\", data = justBindersYearsSales)\n",
        "\n",
        "#This line is a title attribute setting\n",
        "barchart1.set_title(\"Binders Sales by State\")\n",
        "\n",
        "#Try adding plt.show if your graph isn't showing until your end execution or run other code\n",
        "plt.show()"
      ],
      "metadata": {
        "colab": {
          "base_uri": "https://localhost:8080/",
          "height": 295
        },
        "id": "wH4DmfTXhjfm",
        "outputId": "3eab8738-3d75-44fc-8d87-aa110ffe9645"
      },
      "execution_count": null,
      "outputs": [
        {
          "output_type": "display_data",
          "data": {
            "text/plain": [
              "<Figure size 432x288 with 1 Axes>"
            ],
            "image/png": "[encoded data removed]"
          },
          "metadata": {
            "needs_background": "light"
          }
        }
      ]
    },
    {
      "cell_type": "code",
      "source": [
        "justBindersYearsSales = justBindersYears[[\"State\",\"Profit\"]].groupby(by=\"State\").sum()\n",
        "justBindersYearsSales = justBindersYearsSales.reset_index()\n",
        "\n",
        "#This line tells seaborn what to plot on the x axis & what to plot on the y axis, & which dataframe has the data\n",
        "barchart1 = sns.barplot(x=\"Profit\",y=\"State\", data = justBindersYearsSales)\n",
        "\n",
        "for p in barchart1.patches:\n",
        "    width = p.get_width()\n",
        "    plt.text(1700+p.get_width(), p.get_y()+0.55*p.get_height(),\n",
        "             '{:1.2f}'.format(width),\n",
        "             ha='center', va='center')\n",
        "\n",
        "plt.show()"
      ],
      "metadata": {
        "colab": {
          "base_uri": "https://localhost:8080/",
          "height": 285
        },
        "id": "gh_oNY5bh0YC",
        "outputId": "2e17385c-8964-432e-a2b1-1649e2d7186c"
      },
      "execution_count": null,
      "outputs": [
        {
          "output_type": "display_data",
          "data": {
            "text/plain": [
              "<Figure size 432x288 with 1 Axes>"
            ],
            "image/png": "[encoded data removed]"
          },
          "metadata": {}
        }
      ]
    },
    {
      "cell_type": "code",
      "source": [
        "bindersStateProf = justBinders[[\"Segment\",\"Region\",\"State\",\"Profit\",\"Sales\",\"Discount\"]]\n",
        "bindersStateProfit = bindersStateProf.loc[bindersStateProf[\"Region\"]==\"Central\"]\n",
        "bindersStateProfitSorted = bindersStateProfit.groupby(by=\"State\").sum().sort_values(by=\"Profit\")\n",
        "\n",
        "bindersStateProfit = bindersStateProfit[[\"State\",\"Profit\"]].groupby(by=\"State\").sum().sort_values(by=\"Profit\")\n",
        "bindersStateProfit = bindersStateProfit.reset_index()\n",
        "\n",
        "barchart1 = sns.barplot(x=\"Profit\",y=\"State\", data = bindersStateProfit)\n",
        "\n",
        "#CHART ANNOTATIONS\n",
        "#for p in barchart1.patches:\n",
        "#    width = p.get_width()\n",
        "#    plt.text(3000+p.get_width(), p.get_y()+0.55*p.get_height(),\n",
        "#             '{:1.2f}'.format(width),\n",
        "#             ha='center', va='center')\n",
        "\n",
        "plt.show()"
      ],
      "metadata": {
        "id": "SfdIw63Zh9ed",
        "colab": {
          "base_uri": "https://localhost:8080/",
          "height": 285
        },
        "outputId": "e08dda99-3d92-4a60-d82d-cef159411775"
      },
      "execution_count": null,
      "outputs": [
        {
          "output_type": "display_data",
          "data": {
            "text/plain": [
              "<Figure size 432x288 with 1 Axes>"
            ],
            "image/png": "[encoded data removed]"
          },
          "metadata": {}
        }
      ]
    },
    {
      "cell_type": "code",
      "source": [
        "#DISCOUNT VS STATE CHART\n",
        "bindersStateProf = justBinders[[\"Segment\",\"Region\",\"State\",\"Profit\",\"Sales\",\"Discount\"]]\n",
        "bindersStateProfit = bindersStateProf.loc[bindersStateProf[\"Region\"]==\"Central\"].sort_values(by=\"Discount\")\n",
        "bindersStateProfitSorted = bindersStateProfit.groupby(by=\"State\").mean().sort_values(by=\"Discount\")\n",
        "\n",
        "bindersStateProfit = bindersStateProfit[[\"State\",\"Discount\"]].groupby(by=\"State\").mean().sort_values(by=\"Discount\", ascending=False)\n",
        "bindersStateProfit = bindersStateProfit.reset_index()\n",
        "\n",
        "barchart1 = sns.barplot(x=\"Discount\",y=\"State\", data = bindersStateProfit)\n",
        "\n",
        "for p in barchart1.patches:\n",
        "    width = p.get_width()\n",
        "    plt.text(0.035+p.get_width(), p.get_y()+0.55*p.get_height(),\n",
        "             '{:1.2f}'.format(width),\n",
        "             ha='center', va='center')\n"
      ],
      "metadata": {
        "colab": {
          "base_uri": "https://localhost:8080/",
          "height": 285
        },
        "id": "IO-kU72jS3eQ",
        "outputId": "70d1dd90-6aa5-43c0-e23d-9e5e25697782"
      },
      "execution_count": null,
      "outputs": [
        {
          "output_type": "display_data",
          "data": {
            "text/plain": [
              "<Figure size 432x288 with 1 Axes>"
            ],
            "image/png": "[encoded data removed]"
          },
          "metadata": {}
        }
      ]
    },
    {
      "cell_type": "code",
      "source": [],
      "metadata": {
        "id": "KA6AjFXsK1BI"
      },
      "execution_count": null,
      "outputs": []
    }
  ]
}